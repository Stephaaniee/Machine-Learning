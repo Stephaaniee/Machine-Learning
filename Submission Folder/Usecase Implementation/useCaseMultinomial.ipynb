{
 "cells": [
  {
   "cell_type": "markdown",
   "id": "355fa554",
   "metadata": {},
   "source": [
    "#Multinomial Naive Bayes is used in text classification. An example would be to classify customer reviews into positive and negative sentiments based on their text content.E.g Sentiment Analysis"
   ]
  },
  {
   "cell_type": "code",
   "execution_count": 69,
   "id": "b04b6268",
   "metadata": {},
   "outputs": [],
   "source": [
    "import pandas as pd\n",
    "import numpy as np\n",
    "from sklearn.model_selection import train_test_split\n",
    "from sklearn.feature_extraction.text import CountVectorizer\n",
    "from sklearn.naive_bayes import BernoulliNB\n",
    "from sklearn.metrics import accuracy_score, confusion_matrix\n",
    "from sklearn import *\n",
    "import matplotlib.pyplot as plt\n",
    "import seaborn as sns"
   ]
  },
  {
   "cell_type": "code",
   "execution_count": 70,
   "id": "47758123",
   "metadata": {},
   "outputs": [],
   "source": [
    "# Sample customer reviews\n",
    "reviews = [\n",
    "    \"The product is amazing!\",\n",
    "    \"I'm extremely disappointed with the quality.\",\n",
    "    \"This is exactly what I needed. Highly recommended!\",\n",
    "    \"Waste of money. Do not buy!\",\n",
    "    \"Great value for the price.\",\n",
    "    \"Not worth it. Poor performance.\",\n",
    "    \"I love this product. It exceeded my expectations.\",\n",
    "    \"Terrible customer service. Avoid!\",\n",
    "]"
   ]
  },
  {
   "cell_type": "code",
   "execution_count": 71,
   "id": "3251db7c",
   "metadata": {},
   "outputs": [],
   "source": [
    "# Corresponding review labels (1 for positive, 0 for negative)\n",
    "Comments = np.array([1, 0, 1, 0, 1, 0, 1, 0])"
   ]
  },
  {
   "cell_type": "code",
   "execution_count": 62,
   "id": "987ebb6f",
   "metadata": {},
   "outputs": [
    {
     "name": "stdout",
     "output_type": "stream",
     "text": [
      "                                              Review  Comments\n",
      "0                            The product is amazing!         1\n",
      "1       I'm extremely disappointed with the quality.         0\n",
      "2  This is exactly what I needed. Highly recommen...         1\n",
      "3                        Waste of money. Do not buy!         0\n",
      "4                         Great value for the price.         1\n",
      "5                    Not worth it. Poor performance.         0\n",
      "6  I love this product. It exceeded my expectations.         1\n",
      "7                  Terrible customer service. Avoid!         0\n"
     ]
    }
   ],
   "source": [
    "print(data)"
   ]
  },
  {
   "cell_type": "code",
   "execution_count": 89,
   "id": "452f532e",
   "metadata": {},
   "outputs": [],
   "source": [
    "# Create a dataframe\n",
    "data = pd.DataFrame({'Review': reviews, 'Comments': Comments})\n",
    "\n",
    "X = data['Review']\n",
    "#y = data['Comments']\n",
    "# Split into training and testing sets\n",
    "#X_train, X_test, y_train, y_test = train_test_split(X, y, test_size=0.3, random_state=42)\n",
    "\n",
    "# Create the feature vectors: Numerical representation of the raw data\n",
    "vectorizer = CountVectorizer()\n",
    "X = vectorizer.fit_transform(data['Review'])\n",
    "#X_train = vectorizer.fit_transform(X_train)\n",
    "#X_test = vectorizer.fit_transform(X_test)"
   ]
  },
  {
   "cell_type": "code",
   "execution_count": 90,
   "id": "659e3197",
   "metadata": {},
   "outputs": [
    {
     "name": "stdout",
     "output_type": "stream",
     "text": [
      "[1 0 1 0 1 0 1 0]\n",
      "Accuracy: 1.0\n"
     ]
    }
   ],
   "source": [
    "# Train the model with Multinomial Naive Bayes classifier\n",
    "clf = MultinomialNB()\n",
    "#model = BernoulliNB(binarize=True)\n",
    "clf.fit(X, data['Comments'])\n",
    "#model.fit(X_train, y_train)\n",
    "# Predict on the same data for evaluation\n",
    "y_pred = clf.predict(X)\n",
    "#y_pred = model.predict(X_test)\n",
    "print(y_pred)\n",
    "# Calculate accuracy\n",
    "accuracy = accuracy_score(data['Comments'], y_pred)\n",
    "#accuracy = accuracy_score(y_pred, y_test)\n",
    "print(\"Accuracy:\", accuracy)"
   ]
  },
  {
   "cell_type": "code",
   "execution_count": 26,
   "id": "545ac371",
   "metadata": {},
   "outputs": [
    {
     "data": {
      "image/png": "[encoded data removed]",
      "text/plain": [
       "<Figure size 288x144 with 2 Axes>"
      ]
     },
     "metadata": {
      "needs_background": "light"
     },
     "output_type": "display_data"
    }
   ],
   "source": [
    "# Create a confusion matrix \n",
    "#A performance evaluation matric \n",
    "#for evaluating the effectiveness of the classification model\n",
    "cm = confusion_matrix(data['Comments'], y_pred)\n",
    "\n",
    "# Visualize the confusion matrix\n",
    "plt.figure(figsize=(4, 2))\n",
    "sns.heatmap(cm, annot=True, cmap='Blues', fmt='d')\n",
    "plt.title('Confusion Matrix')\n",
    "plt.xlabel('Predicted')\n",
    "plt.ylabel('Actual')\n",
    "plt.show()"
   ]
  },
  {
   "cell_type": "code",
   "execution_count": 27,
   "id": "d107b55a",
   "metadata": {},
   "outputs": [],
   "source": [
    "#Testing the model"
   ]
  },
  {
   "cell_type": "code",
   "execution_count": 35,
   "id": "ff7d03bb",
   "metadata": {},
   "outputs": [
    {
     "name": "stdout",
     "output_type": "stream",
     "text": [
      "Review: \"This product is excellent!\"\n",
      "Comment: Positive\n",
      "\n",
      "Review: \"I'm not satisfied with the purchase.\"\n",
      "Comment: Negative\n",
      "\n",
      "Review: \"Highly disappointed. Would not recommend.\"\n",
      "Comment: Negative\n",
      "\n",
      "Review: \"It is ecstatic.\"\n",
      "Comment: Positive\n",
      "\n",
      "Review: \"Average quality, nothing special.\"\n",
      "Comment: Negative\n",
      "\n"
     ]
    }
   ],
   "source": [
    "# New customer reviews\n",
    "new_reviews = [\n",
    "    \"This product is excellent!\",\n",
    "    \"I'm not satisfied with the purchase.\",\n",
    "    \"Highly disappointed. Would not recommend.\",\n",
    "    \"It is ecstatic.\",\n",
    "    \"Average quality, nothing special.\",\n",
    "]\n",
    "\n",
    "# Preprocess the new data\n",
    "#preprocessed_reviews = preprocess_function(new_reviews)  \n",
    "# Apply the same preprocessing steps used for training data\n",
    "\n",
    "# Transform the new data into feature vectors\n",
    "new_X = vectorizer.transform(new_reviews)\n",
    "\n",
    "# Make predictions\n",
    "new_predictions = clf.predict(new_X)\n",
    "\n",
    "# Print the predictions\n",
    "for review, prediction in zip(new_reviews, new_predictions):\n",
    "    if prediction == 1:\n",
    "        print(f'Review: \"{review}\"\\nComment: Positive\\n')\n",
    "    else:\n",
    "        print(f'Review: \"{review}\"\\nComment: Negative\\n')\n"
   ]
  },
  {
   "cell_type": "code",
   "execution_count": null,
   "id": "7515770e",
   "metadata": {},
   "outputs": [],
   "source": []
  }
 ],
 "metadata": {
  "kernelspec": {
   "display_name": "Python 3 (ipykernel)",
   "language": "python",
   "name": "python3"
  },
  "language_info": {
   "codemirror_mode": {
    "name": "ipython",
    "version": 3
   },
   "file_extension": ".py",
   "mimetype": "text/x-python",
   "name": "python",
   "nbconvert_exporter": "python",
   "pygments_lexer": "ipython3",
   "version": "3.9.12"
  }
 },
 "nbformat": 4,
 "nbformat_minor": 5
}
