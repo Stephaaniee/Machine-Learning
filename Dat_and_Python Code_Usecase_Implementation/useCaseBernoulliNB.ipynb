{
 "cells": [
  {
   "cell_type": "code",
   "execution_count": 230,
   "id": "99448b54",
   "metadata": {},
   "outputs": [],
   "source": [
    "import numpy as np\n",
    "import pandas as pd\n",
    "from sklearn.preprocessing import LabelEncoder\n",
    "from sklearn.naive_bayes import BernoulliNB\n",
    "from sklearn.metrics import accuracy_score\n",
    "from sklearn.model_selection import train_test_split"
   ]
  },
  {
   "cell_type": "markdown",
   "id": "00d5faed",
   "metadata": {},
   "source": [
    "# Load the dataset\n",
    "data = pd.read_csv(r\"C:\\Users\\49152\\Documents\\CPS\\MachineLearning\\Untitled Folder 1\\weatherHistory.csv\")\n",
    "data.head()"
   ]
  },
  {
   "cell_type": "markdown",
   "id": "ab7fe0a8",
   "metadata": {},
   "source": [
    "# Preprocess the data\n",
    "# Convert categorical features to numerical labels\n",
    "label_encoder = LabelEncoder()\n",
    "data['Summary'] = label_encoder.fit_transform(data['Summary'])\n",
    "data['Temperature'] = label_encoder.fit_transform(data['Temperature (C)'])\n",
    "data['Humidity'] = label_encoder.fit_transform(data['Humidity'])\n",
    "data['Wind Speed'] = label_encoder.fit_transform(data['Wind Speed (km/h)'])\n",
    "data['Rain'] = label_encoder.fit_transform(data['Precip Type'])"
   ]
  },
  {
   "cell_type": "markdown",
   "id": "cf0d8a5b",
   "metadata": {},
   "source": [
    "# Split the data into features (X) and labels (y)\n",
    "X = data[['Summary', 'Temperature', 'Humidity', 'Wind Speed']]\n",
    "y = data['Rain']\n",
    "\n",
    "# Train the Bernoulli Naive Bayes classifier\n",
    "classifier = BernoulliNB(binarize=True)\n",
    "classifier.fit(X, y)\n",
    "\n",
    "# Make predictions on the training data\n",
    "y_pred = classifier.predict(X)\n",
    "print(y_pred)\n",
    "# Calculate accuracy\n",
    "accuracy = accuracy_score(y, y_pred)\n",
    "print('Accuracy:', accuracy)"
   ]
  },
  {
   "cell_type": "code",
   "execution_count": 231,
   "id": "608143a7",
   "metadata": {},
   "outputs": [
    {
     "data": {
      "text/html": [
       "<div>\n",
       "<style scoped>\n",
       "    .dataframe tbody tr th:only-of-type {\n",
       "        vertical-align: middle;\n",
       "    }\n",
       "\n",
       "    .dataframe tbody tr th {\n",
       "        vertical-align: top;\n",
       "    }\n",
       "\n",
       "    .dataframe thead th {\n",
       "        text-align: right;\n",
       "    }\n",
       "</style>\n",
       "<table border=\"1\" class=\"dataframe\">\n",
       "  <thead>\n",
       "    <tr style=\"text-align: right;\">\n",
       "      <th></th>\n",
       "      <th>date</th>\n",
       "      <th>Precipitation</th>\n",
       "      <th>Temperature</th>\n",
       "      <th>Wind</th>\n",
       "      <th>Summary</th>\n",
       "    </tr>\n",
       "  </thead>\n",
       "  <tbody>\n",
       "    <tr>\n",
       "      <th>0</th>\n",
       "      <td>2012-01-01</td>\n",
       "      <td>0.0</td>\n",
       "      <td>12.8</td>\n",
       "      <td>4.7</td>\n",
       "      <td>drizzle</td>\n",
       "    </tr>\n",
       "    <tr>\n",
       "      <th>1</th>\n",
       "      <td>2012-01-02</td>\n",
       "      <td>10.9</td>\n",
       "      <td>10.6</td>\n",
       "      <td>4.5</td>\n",
       "      <td>rain</td>\n",
       "    </tr>\n",
       "    <tr>\n",
       "      <th>2</th>\n",
       "      <td>2012-01-03</td>\n",
       "      <td>0.8</td>\n",
       "      <td>11.7</td>\n",
       "      <td>2.3</td>\n",
       "      <td>rain</td>\n",
       "    </tr>\n",
       "    <tr>\n",
       "      <th>3</th>\n",
       "      <td>2012-01-04</td>\n",
       "      <td>20.3</td>\n",
       "      <td>12.2</td>\n",
       "      <td>4.7</td>\n",
       "      <td>rain</td>\n",
       "    </tr>\n",
       "    <tr>\n",
       "      <th>4</th>\n",
       "      <td>2012-01-05</td>\n",
       "      <td>1.3</td>\n",
       "      <td>8.9</td>\n",
       "      <td>6.1</td>\n",
       "      <td>rain</td>\n",
       "    </tr>\n",
       "  </tbody>\n",
       "</table>\n",
       "</div>"
      ],
      "text/plain": [
       "         date  Precipitation  Temperature  Wind  Summary\n",
       "0  2012-01-01            0.0         12.8   4.7  drizzle\n",
       "1  2012-01-02           10.9         10.6   4.5     rain\n",
       "2  2012-01-03            0.8         11.7   2.3     rain\n",
       "3  2012-01-04           20.3         12.2   4.7     rain\n",
       "4  2012-01-05            1.3          8.9   6.1     rain"
      ]
     },
     "execution_count": 231,
     "metadata": {},
     "output_type": "execute_result"
    }
   ],
   "source": [
    "#load and Process Dataset For Weather Prediction i.e. rainy or sunny\n",
    "new_data = pd.read_csv(r\"C:\\Users\\49152\\Documents\\CPS\\MachineLearning\\Untitled Folder 1\\seattle-weather.csv\")\n",
    "del new_data['temp_min']\n",
    "new_data.rename(columns={\"temp_max\": \"Temperature\", \"weather\":\"Summary\",\n",
    "                         \"precipitation\": \"Precipitation\", \"wind\": \"Wind\"}, inplace=True)\n",
    "new_data.head()"
   ]
  },
  {
   "cell_type": "markdown",
   "id": "2c24c241",
   "metadata": {},
   "source": [
    "# Preprocess the data\n",
    "# Convert categorical features to numerical labels\n",
    "label_encoder = LabelEncoder()\n",
    "new_data['Summary'] = label_encoder.fit_transform(new_data['Summary'])\n",
    "new_data['Temperature'] = label_encoder.fit_transform(new_data['Temperature'])\n",
    "new_data['Wind'] = label_encoder.fit_transform(new_data['Wind'])\n",
    "new_data['Precipitation'] = label_encoder.fit_transform(new_data['Precipitation'])"
   ]
  },
  {
   "cell_type": "code",
   "execution_count": 232,
   "id": "87ef4c99",
   "metadata": {},
   "outputs": [
    {
     "name": "stdout",
     "output_type": "stream",
     "text": [
      "Accuracy: 0.8293515358361775\n"
     ]
    }
   ],
   "source": [
    "# Split the data into features (X) and labels (y)\n",
    "X = new_data[['Temperature', 'Wind', 'Precipitation']]\n",
    "y = new_data['Summary']\n",
    "\n",
    "# Convert categorical features to binary using one-hot encoding\n",
    "X = pd.get_dummies(X, drop_first=True)\n",
    "\n",
    "# Split into training and testing sets\n",
    "X_train, X_test, y_train, y_test = train_test_split(X, y, test_size=0.2, random_state=42)\n",
    "\n",
    "# Train the Bernoulli Naive Bayes classifier\n",
    "#classifier = BernoulliNB(binarize=True)\n",
    "#classifier.fit(X, y)\n",
    "\n",
    "# Transform text data into numerical features\n",
    "vectorizer = CountVectorizer(binary=True)\n",
    "#X_train = vectorizer.fit_transform(X_train)\n",
    "#X_test = vectorizer.transform(X_test)\n",
    "\n",
    "# Train the Bernoulli Naive Bayes model\n",
    "model = BernoulliNB()\n",
    "model.fit(X_train, y_train)\n",
    "\n",
    "# Make predictions on the test set\n",
    "y_pred = model.predict(X_test)\n",
    "#print(y_pred)\n",
    "# Calculate accuracy\n",
    "accuracy = accuracy_score(y_test, y_pred)\n",
    "print('Accuracy:', accuracy)"
   ]
  },
  {
   "cell_type": "code",
   "execution_count": 233,
   "id": "153cdc62",
   "metadata": {},
   "outputs": [
    {
     "name": "stdout",
     "output_type": "stream",
     "text": [
      "Predicted labels: ['rain' 'sun' 'rain' 'rain' 'sun']\n"
     ]
    }
   ],
   "source": [
    "#test prediction\n",
    "data = {\n",
    "    'Precipitation': [0.2, 0.0, 0.5, 0.8, 0.0],\n",
    "    'Temperature': [25, 30, 22, 28, 26],\n",
    "    'Wind': [10, 5, 15, 8, 12],\n",
    "}\n",
    "\n",
    "# Create a pandas DataFrame from the dictionary\n",
    "test_example = pd.DataFrame(data)\n",
    "test_example.head()\n",
    "\n",
    "\n",
    "# Convert new categorical features to binary using one-hot encoding\n",
    "new_X = pd.get_dummies(test_example, drop_first=True)\n",
    "new_X = new_X.reindex(columns=X_train.columns, fill_value=0)\n",
    "# Make predictions\n",
    "new_summary = model.predict(new_X)\n",
    "print(\"Predicted labels:\", new_summary)\n",
    "# Print the predictions\n"
   ]
  }
 ],
 "metadata": {
  "kernelspec": {
   "display_name": "Python 3 (ipykernel)",
   "language": "python",
   "name": "python3"
  },
  "language_info": {
   "codemirror_mode": {
    "name": "ipython",
    "version": 3
   },
   "file_extension": ".py",
   "mimetype": "text/x-python",
   "name": "python",
   "nbconvert_exporter": "python",
   "pygments_lexer": "ipython3",
   "version": "3.9.12"
  }
 },
 "nbformat": 4,
 "nbformat_minor": 5
}
